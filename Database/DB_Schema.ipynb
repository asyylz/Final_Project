{
    "metadata": {
        "kernelspec": {
            "name": "SQL",
            "display_name": "SQL",
            "language": "sql"
        },
        "language_info": {
            "name": "sql",
            "version": ""
        }
    },
    "nbformat_minor": 2,
    "nbformat": 4,
    "cells": [
        {
            "cell_type": "code",
            "source": [
                "-- Create the worksheets table\n",
                "CREATE TABLE worksheets (\n",
                "    worksheet_id INT PRIMARY KEY IDENTITY(1,1), -- Auto-incrementing primary key\n",
                "    main_subject VARCHAR(50) NOT NULL,         -- Main subject (e.g., English, Maths)\n",
                "    sub_subject VARCHAR(50) NOT NULL,          -- Sub-subject (e.g., Comprehension, Fractions)\n",
                "    difficulty_level VARCHAR(20),              -- Difficulty level (e.g., Grade1, Grade2)\n",
                "    created_at DATETIME DEFAULT GETDATE()      -- Timestamp for when the worksheet is created\n",
                ");"
            ],
            "metadata": {
                "azdata_cell_guid": "684488a3-ebd4-4820-8bca-e7d7c0ee1357",
                "language": "sql",
                "tags": []
            },
            "outputs": [
                {
                    "output_type": "display_data",
                    "data": {
                        "text/html": "Commands completed successfully."
                    },
                    "metadata": {}
                },
                {
                    "output_type": "display_data",
                    "data": {
                        "text/html": "Total execution time: 00:00:00.006"
                    },
                    "metadata": {}
                }
            ],
            "execution_count": 5
        },
        {
            "cell_type": "code",
            "source": [
                "-- Create the questions table\n",
                "CREATE TABLE questions (\n",
                "    question_id INT PRIMARY KEY IDENTITY(1,1),         -- Auto-incrementing primary key\n",
                "    worksheet_id INT NOT NULL,                -- Foreign key referencing worksheets\n",
                "    question_text VARCHAR(500),               -- Text of the question\n",
                "    answer CHAR(1),                           -- Hold answer\n",
                "    CONSTRAINT fk_question_worksheet FOREIGN KEY (worksheet_id)\n",
                "        REFERENCES worksheets(worksheet_id)   -- Foreign key referencing worksheet_id in worksheets\n",
                "        ON DELETE NO ACTION                   -- Prevent deletion if related questions exist\n",
                "        ON UPDATE CASCADE                     -- Update related records when worksheet_id changes\n",
                ");"
            ],
            "metadata": {
                "language": "sql",
                "azdata_cell_guid": "d8541e4a-6eac-40ce-a108-a6359906c91e",
                "tags": []
            },
            "outputs": [
                {
                    "output_type": "display_data",
                    "data": {
                        "text/html": "Commands completed successfully."
                    },
                    "metadata": {}
                },
                {
                    "output_type": "display_data",
                    "data": {
                        "text/html": "Total execution time: 00:00:00.006"
                    },
                    "metadata": {}
                }
            ],
            "execution_count": 9
        },
        {
            "cell_type": "code",
            "source": [
                "-- Create the choices table\n",
                "CREATE TABLE choices(\n",
                "    choice_id INT PRIMARY KEY IDENTITY(1,1),  -- Auto-incrementing primary key\n",
                "    question_id INT NOT NULL,                 -- Foreign key referencing questions\n",
                "    choice_text VARCHAR(500),                 -- Choice text\n",
                "    CONSTRAINT fk_choice_question FOREIGN KEY (question_id)\n",
                "        REFERENCES questions(question_id)     -- Foreign key referencing question_id in questions\n",
                "        ON DELETE NO ACTION                   -- Prevent deletion if related questions exist\n",
                "        ON UPDATE CASCADE                     -- Update related records when question_id changes\n",
                ");"
            ],
            "metadata": {
                "language": "sql",
                "azdata_cell_guid": "7bff13b8-fbf4-4b95-8e7a-58f366ffc668",
                "tags": []
            },
            "outputs": [
                {
                    "output_type": "display_data",
                    "data": {
                        "text/html": "Commands completed successfully."
                    },
                    "metadata": {}
                },
                {
                    "output_type": "display_data",
                    "data": {
                        "text/html": "Total execution time: 00:00:00.006"
                    },
                    "metadata": {}
                }
            ],
            "execution_count": 11
        },
        {
            "cell_type": "code",
            "source": [
                "-- Create the passages table\n",
                "CREATE TABLE passages(\n",
                "    passage_id INT PRIMARY KEY IDENTITY(1,1),         -- Auto-incrementing primary key\n",
                "    worksheet_id INT NOT NULL,                -- Foreign key referencing worksheets\n",
                "    passage NVARCHAR(MAX),                    -- Passage text (supports Unicode and large text)\n",
                "    CONSTRAINT fk_passage_worksheet FOREIGN KEY (worksheet_id)\n",
                "        REFERENCES worksheets(worksheet_id)   -- Foreign key referencing worksheet_id in worksheets\n",
                "        ON DELETE NO ACTION                   -- Prevent deletion if related questions exist\n",
                "        ON UPDATE CASCADE                     -- Update related records when worksheet_id changes\n",
                ");"
            ],
            "metadata": {
                "azdata_cell_guid": "2614c1a8-4b0c-4024-b7c1-2a38e342efcf",
                "language": "sql",
                "tags": []
            },
            "outputs": [
                {
                    "output_type": "display_data",
                    "data": {
                        "text/html": "Commands completed successfully."
                    },
                    "metadata": {}
                },
                {
                    "output_type": "display_data",
                    "data": {
                        "text/html": "Total execution time: 00:00:00.005"
                    },
                    "metadata": {}
                }
            ],
            "execution_count": 10
        }
    ]
}